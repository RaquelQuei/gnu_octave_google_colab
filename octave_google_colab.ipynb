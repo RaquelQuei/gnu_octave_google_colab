{
  "nbformat": 4,
  "nbformat_minor": 0,
  "metadata": {
    "colab": {
      "provenance": [],
      "authorship_tag": "ABX9TyMoZmjIUvaPTgHIQ+lITzF+",
      "include_colab_link": true
    },
    "kernelspec": {
      "name": "python3",
      "display_name": "Python 3"
    },
    "language_info": {
      "name": "python"
    }
  },
  "cells": [
    {
      "cell_type": "markdown",
      "metadata": {
        "id": "view-in-github",
        "colab_type": "text"
      },
      "source": [
        "<a href=\"https://colab.research.google.com/github/RaquelQuei/gnu_octave_google_colab/blob/main/octave_google_colab.ipynb\" target=\"_parent\"><img src=\"https://colab.research.google.com/assets/colab-badge.svg\" alt=\"Open In Colab\"/></a>"
      ]
    },
    {
      "cell_type": "code",
      "execution_count": 1,
      "metadata": {
        "id": "sSbc3eGmNmlF"
      },
      "outputs": [],
      "source": [
        "from IPython import display"
      ]
    },
    {
      "cell_type": "markdown",
      "source": [
        "## Instalando Octave"
      ],
      "metadata": {
        "id": "oIUnDGSzOACE"
      }
    },
    {
      "cell_type": "code",
      "source": [
        "!sudo apt-get update\n",
        "!sudo apt-get install octave\n",
        "\n",
        "display.clear_output()"
      ],
      "metadata": {
        "id": "BP4w3fsGNxmm"
      },
      "execution_count": 2,
      "outputs": []
    },
    {
      "cell_type": "code",
      "source": [
        "!octave -version"
      ],
      "metadata": {
        "id": "xtp3Dla9OLN3"
      },
      "execution_count": null,
      "outputs": []
    },
    {
      "cell_type": "markdown",
      "source": [
        "## Criando o script com %%writefile e salvando como .m\n",
        "É como se fosse o editor do Octave quando escrevemos nosso script\n",
        "\n",
        "e depois rodamos o código para observar a saída"
      ],
      "metadata": {
        "id": "8QaYq2cQR8r3"
      }
    },
    {
      "cell_type": "code",
      "source": [
        "%%writefile multiply_add.m\n",
        "\n",
        "x = 10;\n",
        "y = 5;\n",
        "z = 1;\n",
        "\n",
        "display(x*y-z)"
      ],
      "metadata": {
        "colab": {
          "base_uri": "https://localhost:8080/"
        },
        "id": "SUodVfmzOSzY",
        "outputId": "37cafb0a-effa-488f-fdbb-31b60d040d8f"
      },
      "execution_count": 15,
      "outputs": [
        {
          "output_type": "stream",
          "name": "stdout",
          "text": [
            "Overwriting multiply_add.m\n"
          ]
        }
      ]
    },
    {
      "cell_type": "markdown",
      "source": [
        "## Mostrando o resultado"
      ],
      "metadata": {
        "id": "fbzCJZq9Rpu3"
      }
    },
    {
      "cell_type": "code",
      "source": [
        "!octave multiply_add.m"
      ],
      "metadata": {
        "colab": {
          "base_uri": "https://localhost:8080/"
        },
        "id": "RNhXf6BHOsef",
        "outputId": "d6612424-dc5a-46ab-f31b-8cb6d079ad8e"
      },
      "execution_count": 16,
      "outputs": [
        {
          "output_type": "stream",
          "name": "stdout",
          "text": [
            "octave: X11 DISPLAY environment variable not set\n",
            "octave: disabling GUI features\n",
            "49\n"
          ]
        }
      ]
    },
    {
      "cell_type": "markdown",
      "source": [
        "## Criando o script(fica salvo na pasta no colab)"
      ],
      "metadata": {
        "id": "UQN7V3U9RhsV"
      }
    },
    {
      "cell_type": "code",
      "source": [
        "%%writefile lin_alg.m\n",
        "\n",
        "A = [8 6 4];\n",
        "B = [8 6 4];\n",
        "\n",
        "display(dot(A,B));"
      ],
      "metadata": {
        "colab": {
          "base_uri": "https://localhost:8080/"
        },
        "id": "LxZVMObpO8R4",
        "outputId": "ecf53c42-bab0-4798-e57b-af34af7e14ad"
      },
      "execution_count": 19,
      "outputs": [
        {
          "output_type": "stream",
          "name": "stdout",
          "text": [
            "Overwriting lin_alg.m\n"
          ]
        }
      ]
    },
    {
      "cell_type": "markdown",
      "source": [
        "## Mostrando o resultado"
      ],
      "metadata": {
        "id": "Kj4ExWqsRtc9"
      }
    },
    {
      "cell_type": "code",
      "source": [
        "!octave lin_alg.m"
      ],
      "metadata": {
        "colab": {
          "base_uri": "https://localhost:8080/"
        },
        "id": "dltOVVR6PNqj",
        "outputId": "a7569e0b-8ca4-452d-9471-382971b73b24"
      },
      "execution_count": 18,
      "outputs": [
        {
          "output_type": "stream",
          "name": "stdout",
          "text": [
            "octave: X11 DISPLAY environment variable not set\n",
            "octave: disabling GUI features\n",
            "116\n"
          ]
        }
      ]
    },
    {
      "cell_type": "markdown",
      "source": [
        "## Gerando uma plotagem"
      ],
      "metadata": {
        "id": "4VZxEM9YSjK-"
      }
    },
    {
      "cell_type": "code",
      "source": [
        "%%writefile sin_plot.m\n",
        "\n",
        "x = -10:0.1:10;\n",
        "y = sin(x);\n",
        "plot(x,y);\n",
        "title(\"Simple 2-D Plot\");\n",
        "xlabel(\"x\");\n",
        "ylabel(\"sin(x)\");\n",
        "print -dpng sin_plot.png;"
      ],
      "metadata": {
        "colab": {
          "base_uri": "https://localhost:8080/"
        },
        "id": "7Qx6aAj6RuFv",
        "outputId": "4a8fc932-c3e1-4c2d-edf1-2e5bc355797b"
      },
      "execution_count": 38,
      "outputs": [
        {
          "output_type": "stream",
          "name": "stdout",
          "text": [
            "Writing sin_plot.m\n"
          ]
        }
      ]
    },
    {
      "cell_type": "code",
      "source": [
        "!octave sin_plot.m;"
      ],
      "metadata": {
        "colab": {
          "base_uri": "https://localhost:8080/"
        },
        "id": "LZtnuChdTTsK",
        "outputId": "d25d57c0-260f-454d-c565-46758323b954"
      },
      "execution_count": 39,
      "outputs": [
        {
          "output_type": "stream",
          "name": "stdout",
          "text": [
            "octave: X11 DISPLAY environment variable not set\n",
            "octave: disabling GUI features\n",
            "warning: using the gnuplot graphics toolkit is discouraged\n",
            "\n",
            "The gnuplot graphics toolkit is not actively maintained and has a number\n",
            "of limitations that are ulikely to be fixed.  Communication with gnuplot\n",
            "uses a one-directional pipe and limited information is passed back to the\n",
            "Octave interpreter so most changes made interactively in the plot window\n",
            "will not be reflected in the graphics properties managed by Octave.  For\n",
            "example, if the plot window is closed with a mouse click, Octave will not\n",
            "be notified and will not update it's internal list of open figure windows.\n",
            "We recommend using the qt toolkit instead.\n",
            "                                                                               \n",
            "                                                                               \n",
            "          |------------------------Simple 2-D Plot--------------------------|  \n",
            "       1 +|+              **              +   ***          +       ***   +-+|  \n",
            "         +|              *+ *             +  **  *         +      ** **    +|  \n",
            "          |             *   **               *   **              **   *     |  \n",
            "          |             *    *              *     *              *     *    |  \n",
            "     0.5 *|+           *      *             *      *            **     * +-+|  \n",
            "         *|            *      *            *       *            *       *   |  \n",
            "          |           *       **           *       **           *       *   |  \n",
            "          |           *        *           *        *          *        **  |  \n",
            "       0 +|*          *        *          *         *          *         *-+|  \n",
            "          |*         *          *         *          *        *          *  |  \n",
            "          |**        *          *        *           *        *           * |  \n",
            "          | *       *           **       *           **       *           * |  \n",
            "          | *       *            *       *            *      *            **|  \n",
            "    -0.5 +|+ *     **            *      *             *      *           +-*|  \n",
            "          |  *     *              *     *              *    *               |  \n",
            "          |   *   **              **   *               **   *               |  \n",
            "         +|-----------------------------------------------------------------|  \n",
            "      -1 +-+   ***        +         ***   +              ***             +-+   \n",
            "        -10              -5               0                5              10   \n",
            "                                          x                                    \n",
            "                                                                               \n"
          ]
        }
      ]
    },
    {
      "cell_type": "code",
      "source": [
        "%%writefile plotando_gr.m\n",
        "\n",
        "ano = [2010 2011 2012 2013 2014 2015 2016 2017 2018 2019];\n",
        "vendas = [2 3.5 5 8 11 7 12 15 18 21];\n",
        "plot(ano, vendas);\n",
        "plot(ano, vendas, '--bo', 'linewidth', 1, 'markersize', 8, 'markerfacecolor', 'g');\n",
        "print -dpng plotando_gr.png;"
      ],
      "metadata": {
        "colab": {
          "base_uri": "https://localhost:8080/"
        },
        "id": "a5YDstMkU_8M",
        "outputId": "c9f1c13e-e235-412f-81d9-77f754b1561d"
      },
      "execution_count": 43,
      "outputs": [
        {
          "output_type": "stream",
          "name": "stdout",
          "text": [
            "Writing plotando_gr.m\n"
          ]
        }
      ]
    },
    {
      "cell_type": "code",
      "source": [
        "!octave plotando_gr.m"
      ],
      "metadata": {
        "colab": {
          "base_uri": "https://localhost:8080/"
        },
        "id": "dENnOXQ-VG-7",
        "outputId": "46333c4e-f706-474a-a64d-2159be89f437"
      },
      "execution_count": 44,
      "outputs": [
        {
          "output_type": "stream",
          "name": "stdout",
          "text": [
            "octave: X11 DISPLAY environment variable not set\n",
            "octave: disabling GUI features\n",
            "warning: using the gnuplot graphics toolkit is discouraged\n",
            "\n",
            "The gnuplot graphics toolkit is not actively maintained and has a number\n",
            "of limitations that are ulikely to be fixed.  Communication with gnuplot\n",
            "uses a one-directional pipe and limited information is passed back to the\n",
            "Octave interpreter so most changes made interactively in the plot window\n",
            "will not be reflected in the graphics properties managed by Octave.  For\n",
            "example, if the plot window is closed with a mouse click, Octave will not\n",
            "be notified and will not update it's internal list of open figure windows.\n",
            "We recommend using the qt toolkit instead.\n",
            "     |----------------------------------------------------------------------|  \n",
            " 25 +|+           +             +              +             +           +-+|  \n",
            "    +|            +             +              +             +             +|  \n",
            "     |                                                                      |  \n",
            "     |                                                             *F       |  \n",
            " 20 +|+                                                          **      +-+|  \n",
            "     |                                                         **           |  \n",
            "     |                                                      *F*             |  \n",
            "     |                                                  ****                |  \n",
            " 15 +|+                                              *F*                 +-+|  \n",
            "     |                                           ****                       |  \n",
            "     |                                         F*                           |  \n",
            "     |                         *F*           **                             |  \n",
            " 10 +|+                      **   **       **                            +-+|  \n",
            "     |                     **       ***  **                                 |  \n",
            "     |                  *F*            *F                                   |  \n",
            "     |              ****                                                    |  \n",
            "  5 +|+        ***F*                                                     +-+|  \n",
            "     |  ***F***                                                             |  \n",
            "    F|**                                                                    |  \n",
            "    +|----------------------------------------------------------------------|  \n",
            "  0 +-+           +             +              +             +           +-+   \n",
            "  2010          2012          2014           2016          2018          2020  \n",
            "                                                                               \n"
          ]
        }
      ]
    }
  ]
}